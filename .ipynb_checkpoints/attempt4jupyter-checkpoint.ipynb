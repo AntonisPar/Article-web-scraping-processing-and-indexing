{
 "cells": [
  {
   "cell_type": "code",
   "execution_count": 1,
   "id": "086551d7",
   "metadata": {},
   "outputs": [
    {
     "name": "stderr",
     "output_type": "stream",
     "text": [
      "[nltk_data] Downloading package names to /Users/antonis/nltk_data...\n",
      "[nltk_data]   Package names is already up-to-date!\n"
     ]
    },
    {
     "name": "stdout",
     "output_type": "stream",
     "text": [
      "bouncing lymenet lehigh university the following address are on the lymenet mailing but are rejecting since the list server originally accepted these address i assume these address have since been improperly functioning mail gateway might also be if you are listed here and would still like to remain on the please write to i will remove these address from the list before the next newsletter go a a general please remember to from all your mailing list before your account is this will save the listserv maintainer from many box lehigh university\n"
     ]
    }
   ],
   "source": [
    "from sklearn.datasets import fetch_20newsgroups\n",
    "from collections import defaultdict\n",
    "from nltk.stem import WordNetLemmatizer\n",
    "from nltk.corpus import names\n",
    "import numpy as np\n",
    "import nltk\n",
    "nltk.download('names')\n",
    "from sklearn.feature_extraction.text import TfidfVectorizer\n",
    "\n",
    "\n",
    "\n",
    "\n",
    "groups = fetch_20newsgroups()\n",
    "\n",
    "data_train = fetch_20newsgroups(subset='train', random_state=21)\n",
    "train_label = data_train.target\n",
    "data_test = fetch_20newsgroups(subset='test', random_state=21)\n",
    "test_label = data_test.target\n",
    "len(data_train.data), len(data_test.data), len(test_label)\n",
    "\n",
    "np.unique(test_label)\n",
    "\n",
    "all_names = names.words()\n",
    "WNL = WordNetLemmatizer()\n",
    "def clean(data):\n",
    "    cleaned = defaultdict(list)\n",
    "    count = 0\n",
    "    for group in data:\n",
    "        for words in group.split():\n",
    "            if words.isalpha() and words not in all_names:\n",
    "                cleaned[count].append(WNL.lemmatize(words.lower()))\n",
    "        cleaned[count] = ' '.join(cleaned[count])\n",
    "        count +=1\n",
    "    return(list(cleaned.values()))\n",
    "\n",
    "\n",
    "x_train = clean(data_train.data)\n",
    "print(x_train[0])\n",
    "\n",
    "from sklearn.feature_extraction.text import TfidfVectorizer\n",
    "\n",
    "tf = TfidfVectorizer(stop_words='english', max_features=1000)\n",
    "X_train = tf.fit_transform(x_train)"
   ]
  },
  {
   "cell_type": "code",
   "execution_count": 2,
   "id": "b0fb3050",
   "metadata": {},
   "outputs": [
    {
     "name": "stdout",
     "output_type": "stream",
     "text": [
      "  (0, 102)\t0.14778009225071365\n",
      "  (0, 781)\t0.16041743821416374\n",
      "  (0, 6)\t0.17385011757245952\n",
      "  (0, 748)\t0.14033348112168054\n",
      "  (0, 356)\t0.14333207273026918\n",
      "  (0, 992)\t0.15324943515845413\n",
      "  (0, 502)\t0.07638713820364733\n",
      "  (0, 354)\t0.18837920609912473\n",
      "  (0, 529)\t0.1507502264958828\n",
      "  (0, 59)\t0.1566491824465487\n",
      "  (0, 807)\t0.17435562935029608\n",
      "  (0, 507)\t0.4194793039364336\n",
      "  (0, 530)\t0.3782992330174649\n",
      "  (0, 15)\t0.6171302972299648\n",
      "  (0, 336)\t0.13420299042543288\n",
      "  (0, 936)\t0.14683604039106976\n",
      "  (1, 69)\t0.0699967334036725\n",
      "  (1, 773)\t0.06099067723896248\n",
      "  (1, 400)\t0.05774609326316909\n",
      "  (1, 826)\t0.08019324119709424\n",
      "  (1, 220)\t0.07606872051551708\n",
      "  (1, 122)\t0.06963760686537299\n",
      "  (1, 544)\t0.06519378742787182\n",
      "  (1, 471)\t0.07449780952018652\n",
      "  (1, 928)\t0.08588221740404033\n",
      "  :\t:\n",
      "  (11313, 971)\t0.12773111263983786\n",
      "  (11313, 457)\t0.6111139597350759\n",
      "  (11313, 692)\t0.2577058390262955\n",
      "  (11313, 364)\t0.17810449681870563\n",
      "  (11313, 702)\t0.1309715534359941\n",
      "  (11313, 731)\t0.14197127174161725\n",
      "  (11313, 291)\t0.12934738007870375\n",
      "  (11313, 883)\t0.12531986477169468\n",
      "  (11313, 219)\t0.14210032263522873\n",
      "  (11313, 625)\t0.10857602696948554\n",
      "  (11313, 387)\t0.13492364938420384\n",
      "  (11313, 368)\t0.09169911029851474\n",
      "  (11313, 600)\t0.466257375784092\n",
      "  (11313, 853)\t0.11002780562472773\n",
      "  (11313, 553)\t0.12432518597501513\n",
      "  (11313, 616)\t0.14383274511611135\n",
      "  (11313, 307)\t0.10405485673432027\n",
      "  (11313, 393)\t0.10471954801240235\n",
      "  (11313, 467)\t0.10853560253875524\n",
      "  (11313, 856)\t0.09078972632960973\n",
      "  (11313, 382)\t0.12059774399094447\n",
      "  (11313, 224)\t0.13778381220555205\n",
      "  (11313, 783)\t0.0821071878398247\n",
      "  (11313, 777)\t0.09763260278423289\n",
      "  (11313, 959)\t0.05658813691174835\n"
     ]
    }
   ],
   "source": [
    "print(X_train)"
   ]
  },
  {
   "cell_type": "code",
   "execution_count": null,
   "id": "e76e58d9",
   "metadata": {},
   "outputs": [],
   "source": []
  }
 ],
 "metadata": {
  "kernelspec": {
   "display_name": "Python 3 (ipykernel)",
   "language": "python",
   "name": "python3"
  },
  "language_info": {
   "codemirror_mode": {
    "name": "ipython",
    "version": 3
   },
   "file_extension": ".py",
   "mimetype": "text/x-python",
   "name": "python",
   "nbconvert_exporter": "python",
   "pygments_lexer": "ipython3",
   "version": "3.9.7"
  }
 },
 "nbformat": 4,
 "nbformat_minor": 5
}
