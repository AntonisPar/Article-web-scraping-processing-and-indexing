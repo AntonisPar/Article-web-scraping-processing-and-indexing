{
 "cells": [
  {
   "cell_type": "code",
   "execution_count": 2,
   "id": "ec10dd0b",
   "metadata": {},
   "outputs": [
    {
     "name": "stderr",
     "output_type": "stream",
     "text": [
      "[nltk_data] Downloading package names to /Users/antonis/nltk_data...\n",
      "[nltk_data]   Package names is already up-to-date!\n"
     ]
    }
   ],
   "source": [
    "from sklearn.datasets import fetch_20newsgroups\n",
    "from collections import defaultdict\n",
    "from nltk.stem import WordNetLemmatizer\n",
    "from nltk.corpus import names\n",
    "from nltk.stem import PorterStemmer\n",
    "import numpy as np\n",
    "import nltk\n",
    "import pandas as pd\n",
    "import os\n",
    "from sklearn.feature_extraction.text import TfidfVectorizer\n",
    "from sklearn.feature_extraction.text import TfidfTransformer\n",
    "from numpy import asarray\n",
    "from numpy import savetxt\n",
    "\n",
    "nltk.download('names')\n",
    "ps = PorterStemmer()\n",
    "all_names = names.words()\n",
    "WNL = WordNetLemmatizer()\n",
    "\n",
    "path_train= \"/Users/antonis/Downloads/20news-bydate/20news-bydate-train\"\n",
    "path_test= \"/Users/antonis/Downloads/20news-bydate/20news-bydate-test\"\n",
    "\n",
    "\n",
    "\n",
    "def gather(path):\n",
    "    df = pd.DataFrame()\n",
    "    for file in os.listdir(path):\n",
    "        tag = file\n",
    "        for doc in os.listdir(path+'/'+file):\n",
    "            docpath = path+'/'+file+'/'+doc\n",
    "            f = open(docpath, \"r\",encoding='cp1252')\n",
    "            content = f.read()\n",
    "            temp = pd.DataFrame(\n",
    "                {\n",
    "                    'content':content,\n",
    "                    'tag':tag\n",
    "                },index=[0]\n",
    "            )\n",
    "            df = pd.concat([df, temp])\n",
    "\n",
    "\n",
    "\n",
    "    df.content =df.content.replace(to_replace='From:(.*\\n)', value='', regex=True) ##remove from to email\n",
    "    df.content =df.content.replace(to_replace='lines:(.*\\n)', value='', regex=True)\n",
    "    df.content =df.content.replace(to_replace='Subject:(.*\\n)', value='', regex=True)\n",
    "    df.content =df.content.replace(to_replace='[!\"#$%&\\'()*+,/:;<=>?@[\\\\]^_`{|}~]', value=' ', regex=True) #remove punctuation except\n",
    "    df.content =df.content.replace(to_replace='-', value=' ', regex=True)\n",
    "    df.content =df.content.replace(to_replace='\\s+', value=' ', regex=True)    #remove new line\n",
    "    df.content =df.content.replace(to_replace='  ', value='', regex=True)                #remove double white space\n",
    "    df.content =df.content.apply(lambda x:x.strip())  # Ltrim and Rtrim of whitespace\n",
    "\n",
    "    df['content']=[entry.lower() for entry in df['content']]\n",
    "    return df\n",
    "\n",
    "df_news_train = gather(path_train)\n",
    "\n",
    "\n",
    "\n",
    "def clean(data):\n",
    "    cleaned = defaultdict(list)\n",
    "    count = 0\n",
    "    for group in data:\n",
    "        for words in group.split():\n",
    "            if words.isalpha() and words not in all_names:\n",
    "                words = ps.stem(words)\n",
    "                cleaned[count].append(WNL.lemmatize(words.lower()))\n",
    "        cleaned[count] = ' '.join(cleaned[count])\n",
    "        count +=1\n",
    "    return(list(cleaned.values()))\n",
    "\n",
    "x_train = clean(df_news_train['content'])\n",
    "\n",
    "\n",
    "tf = TfidfVectorizer(stop_words='english', max_features=8000,use_idf=True)\n",
    "tfidf = tf.fit_transform(x_train)\n",
    "\n",
    "vocab = tf.vocabulary_\n",
    "\n"
   ]
  },
  {
   "cell_type": "code",
   "execution_count": 4,
   "id": "16c9ebdc",
   "metadata": {},
   "outputs": [],
   "source": [
    "from sklearn.feature_extraction.text import CountVectorizer\n",
    "\n",
    "countvectorizer = CountVectorizer(analyzer= 'word', stop_words='english',vocabulary=vocab)\n",
    "\n",
    "count_wm = countvectorizer.fit_transform(x_train)\n",
    "\n",
    "#using Tfidftransformer and count vectorizer\n",
    "\n",
    "tfidf_transformer=TfidfTransformer(smooth_idf=True,use_idf=True) \n",
    "tfidf_transformer.fit(count_wm)\n",
    "\n",
    "\n",
    "# print idf values \n",
    "df_idf = pd.DataFrame(tfidf_transformer.idf_, index=countvectorizer.get_feature_names(),columns=[\"idf_weights\"]) \n",
    " \n",
    "# sort ascending \n",
    "df_idf.sort_values(by=['idf_weights'])\n",
    "\n",
    "# count matrix \n",
    "count_vector=countvectorizer.transform(x_train) \n",
    " \n",
    "# tf-idf scores \n",
    "tf_idf_vector=tfidf_transformer.transform(count_vector)\n",
    "\n",
    "feature_names = countvectorizer.get_feature_names() \n",
    " \n",
    "#get tfidf vector for first document \n",
    "first_document_vector=tf_idf_vector[10342] \n",
    " \n",
    "#print the scores \n",
    "df = pd.DataFrame(first_document_vector.T.todense(), index=feature_names, columns=[\"tfidf\"]) \n",
    "df.sort_values(by=['tfidf'],ascending=False)\n",
    "\n",
    "#using Tfidfvectorizer\n",
    "\n",
    "# get the first vector out (for the first document) \n",
    "first_vector_tfidfvectorizer=tfidf[0] \n",
    "\n",
    "# place tf-idf values in a pandas data frame\n",
    "df_tfidf = pd.DataFrame(first_vector_tfidfvectorizer.T.todense(), index=tf.get_feature_names(), columns=[\"tfidf\"]) \n",
    "df.sort_values(by=[\"tfidf\"],ascending=False)\n",
    "\n",
    "def get_key(val):\n",
    "    for key, value in tf.vocabulary_.items():\n",
    "         if val == value:\n",
    "             return key\n",
    " \n",
    "    return \"key doesn't exist\""
   ]
  },
  {
   "cell_type": "code",
   "execution_count": 6,
   "id": "05e2be4a",
   "metadata": {},
   "outputs": [],
   "source": [
    "#PART 2 ... TEST\n",
    "\n",
    "df_news_test = gather(path_test)\n",
    "x_test = clean(df_news_test['content'])\n"
   ]
  },
  {
   "cell_type": "code",
   "execution_count": 49,
   "id": "fde6fe24",
   "metadata": {},
   "outputs": [],
   "source": [
    "from sklearn.metrics.pairwise import cosine_similarity\n",
    "from sklearn import metrics\n",
    "\n",
    "def classify(document,tfidf):\n",
    "    doc = [document]\n",
    "    testvector = tf.transform(doc)\n",
    "    distances = cosine_similarity(testvector, tfidf)\n",
    "    prediction = np.argmax(distances, 1)\n",
    "    print('predicted = ' +df_news_test['tag'].iloc[prediction])\n",
    "    actual = df_news_train.loc[df_news_test['content'] == document,'tag']\n",
    "    print(actual)\n",
    "    \n"
   ]
  },
  {
   "cell_type": "code",
   "execution_count": null,
   "id": "0e743a21",
   "metadata": {},
   "outputs": [
    {
     "name": "stdout",
     "output_type": "stream",
     "text": [
      "0    predicted = talk.politics.mideast\n",
      "Name: tag, dtype: object\n"
     ]
    }
   ],
   "source": [
    "classify(x_test[100],tfidf)\n"
   ]
  },
  {
   "cell_type": "code",
   "execution_count": null,
   "id": "c49dd245",
   "metadata": {},
   "outputs": [],
   "source": []
  }
 ],
 "metadata": {
  "kernelspec": {
   "display_name": "Python 3 (ipykernel)",
   "language": "python",
   "name": "python3"
  },
  "language_info": {
   "codemirror_mode": {
    "name": "ipython",
    "version": 3
   },
   "file_extension": ".py",
   "mimetype": "text/x-python",
   "name": "python",
   "nbconvert_exporter": "python",
   "pygments_lexer": "ipython3",
   "version": "3.9.7"
  }
 },
 "nbformat": 4,
 "nbformat_minor": 5
}
