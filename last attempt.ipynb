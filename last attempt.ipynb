{
 "cells": [
  {
   "cell_type": "code",
   "execution_count": 1,
   "id": "ba3c28a2",
   "metadata": {},
   "outputs": [
    {
     "name": "stderr",
     "output_type": "stream",
     "text": [
      "[nltk_data] Downloading package names to /Users/antonis/nltk_data...\n",
      "[nltk_data]   Package names is already up-to-date!\n",
      "IOPub data rate exceeded.\n",
      "The notebook server will temporarily stop sending output\n",
      "to the client in order to avoid crashing it.\n",
      "To change this limit, set the config variable\n",
      "`--NotebookApp.iopub_data_rate_limit`.\n",
      "\n",
      "Current values:\n",
      "NotebookApp.iopub_data_rate_limit=1000000.0 (bytes/sec)\n",
      "NotebookApp.rate_limit_window=3.0 (secs)\n",
      "\n"
     ]
    }
   ],
   "source": [
    "from sklearn.datasets import fetch_20newsgroups\n",
    "from collections import defaultdict\n",
    "from nltk.stem import WordNetLemmatizer\n",
    "from nltk.corpus import names\n",
    "from nltk.stem import PorterStemmer\n",
    "import numpy as np\n",
    "import nltk\n",
    "import pandas as pd\n",
    "import os\n",
    "from sklearn.feature_extraction.text import TfidfVectorizer\n",
    "from sklearn.feature_extraction.text import TfidfTransformer\n",
    "from numpy import asarray\n",
    "from numpy import savetxt\n",
    "\n",
    "nltk.download('names')\n",
    "ps = PorterStemmer()\n",
    "all_names = names.words()\n",
    "WNL = WordNetLemmatizer()\n",
    "\n",
    "path_train= \"/Users/antonis/Downloads/20news-bydate/20news-bydate-train\"\n",
    "path_test= \"/Users/antonis/Downloads/20news-bydate/20news-bydate-test\"\n",
    "\n",
    "\n",
    "#gathering all the articles from 20news-bydate-train in a single dataframe\n",
    "def gather(path): \n",
    "    df = pd.DataFrame() #this will be the final dataframe\n",
    "    for file in os.listdir(path):\n",
    "        tag = file\n",
    "        for doc in os.listdir(path+'/'+file):\n",
    "            docpath = path+'/'+file+'/'+doc\n",
    "            f = open(docpath, \"r\",encoding='cp1252')\n",
    "            content = f.read()\n",
    "            temp = pd.DataFrame( #creating a temporary dataframe to store the current content and tag\n",
    "                {\n",
    "                    'content':content,\n",
    "                    'tag':tag\n",
    "                },index=[0]\n",
    "            )\n",
    "            df = pd.concat([df, temp]) #merge the temp dataframe with the final one\n",
    "\n",
    "\n",
    "\n",
    "    df.content =df.content.replace(to_replace='From:(.*\\n)', value='', regex=True) ##remove from to email\n",
    "    df.content =df.content.replace(to_replace='lines:(.*\\n)', value='', regex=True)\n",
    "    df.content =df.content.replace(to_replace='Subject:(.*\\n)', value='', regex=True)#remove subject\n",
    "    df.content =df.content.replace(to_replace='[!\"#$%&\\'()*+,/:;<=>?@[\\\\]^_`{|}~]', value=' ', regex=True) #remove punctuation\n",
    "    df.content =df.content.replace(to_replace='-', value=' ', regex=True)\n",
    "    df.content =df.content.replace(to_replace='\\s+', value=' ', regex=True)    #remove new line\n",
    "    df.content =df.content.replace(to_replace='  ', value='', regex=True)                #remove double white space\n",
    "    df.content =df.content.apply(lambda x:x.strip())  # ltrim and ltrim of whitespace\n",
    "\n",
    "    df['content']=[entry.lower() for entry in df['content']] #to lowercase\n",
    "    return df\n",
    "\n",
    "df_news_train = gather(path_train)\n",
    "\n",
    "\n",
    "\n",
    "def clean(data):\n",
    "    cleaned = defaultdict(list)\n",
    "    count = 0\n",
    "    for group in data:\n",
    "        for words in group.split():\n",
    "            if words.isalpha():\n",
    "                words = ps.stem(words) #creating stems\n",
    "                cleaned[count].append(words.lower())#to lowercase\n",
    "        cleaned[count] = ' '.join(cleaned[count])\n",
    "        count +=1\n",
    "    print(cleaned)\n",
    "    return(list(cleaned.values()))\n",
    "\n",
    "x_train = clean(df_news_train['content'])\n",
    "\n",
    "\n",
    "tf = TfidfVectorizer(stop_words='english', max_features=8000,use_idf=True) #Initializing the vectorizer.Setting 8000 features\n",
    "tfidf = tf.fit_transform(x_train)#fit_transform learns vocabulary and idf, returns document-term matrix.\n",
    "\n",
    "vocab = tf.vocabulary_\n",
    "\n"
   ]
  },
  {
   "cell_type": "code",
   "execution_count": 4,
   "id": "ad5fdaa6",
   "metadata": {},
   "outputs": [],
   "source": []
  },
  {
   "cell_type": "code",
   "execution_count": 2,
   "id": "dd4d06f3",
   "metadata": {},
   "outputs": [],
   "source": [
    "#PART 2 ... TEST\n",
    "\n",
    "#perform the same process for the test data\n",
    "def clean_test(data):\n",
    "    cleaned = defaultdict(list)\n",
    "    count = 0\n",
    "    for words in data.split():\n",
    "        if words.isalpha() and words not in all_names:\n",
    "            words = ps.stem(words)\n",
    "            cleaned[count].append(WNL.lemmatize(words.lower()))\n",
    "    cleaned[count] = ' '.join(cleaned[count])\n",
    "    count +=1\n",
    "    return(list(cleaned.values()))\n",
    "\n",
    "df_news_test = gather(path_test)\n",
    "\n",
    "df_news_test['content'] = df_news_test['content'].apply(clean_test)\n",
    "\n",
    "# x_test = clean(df_news_test['content'])\n"
   ]
  },
  {
   "cell_type": "code",
   "execution_count": 11,
   "id": "9a1fdab2",
   "metadata": {},
   "outputs": [
    {
     "name": "stdout",
     "output_type": "stream",
     "text": [
      "4853\n",
      "64%\n"
     ]
    },
    {
     "ename": "NameError",
     "evalue": "name 'json' is not defined",
     "output_type": "error",
     "traceback": [
      "\u001b[0;31m---------------------------------------------------------------------------\u001b[0m",
      "\u001b[0;31mNameError\u001b[0m                                 Traceback (most recent call last)",
      "\u001b[0;32m/var/folders/dz/wvvxlg856kb9w1q9w9_p5mjh0000gn/T/ipykernel_853/561156221.py\u001b[0m in \u001b[0;36m<module>\u001b[0;34m\u001b[0m\n\u001b[1;32m     49\u001b[0m     \u001b[0ma_file\u001b[0m\u001b[0;34m.\u001b[0m\u001b[0mclose\u001b[0m\u001b[0;34m(\u001b[0m\u001b[0;34m)\u001b[0m\u001b[0;34m\u001b[0m\u001b[0;34m\u001b[0m\u001b[0m\n\u001b[1;32m     50\u001b[0m \u001b[0;34m\u001b[0m\u001b[0m\n\u001b[0;32m---> 51\u001b[0;31m \u001b[0msave\u001b[0m\u001b[0;34m(\u001b[0m\u001b[0mclassified\u001b[0m\u001b[0;34m,\u001b[0m \u001b[0;34m\"classified\"\u001b[0m\u001b[0;34m)\u001b[0m\u001b[0;34m\u001b[0m\u001b[0;34m\u001b[0m\u001b[0m\n\u001b[0m",
      "\u001b[0;32m/var/folders/dz/wvvxlg856kb9w1q9w9_p5mjh0000gn/T/ipykernel_853/561156221.py\u001b[0m in \u001b[0;36msave\u001b[0;34m(file, name)\u001b[0m\n\u001b[1;32m     46\u001b[0m \u001b[0;32mdef\u001b[0m \u001b[0msave\u001b[0m\u001b[0;34m(\u001b[0m\u001b[0mfile\u001b[0m\u001b[0;34m,\u001b[0m \u001b[0mname\u001b[0m\u001b[0;34m)\u001b[0m\u001b[0;34m:\u001b[0m\u001b[0;34m\u001b[0m\u001b[0;34m\u001b[0m\u001b[0m\n\u001b[1;32m     47\u001b[0m     \u001b[0ma_file\u001b[0m \u001b[0;34m=\u001b[0m \u001b[0mopen\u001b[0m\u001b[0;34m(\u001b[0m\u001b[0mname\u001b[0m \u001b[0;34m+\u001b[0m \u001b[0;34m\".json\"\u001b[0m\u001b[0;34m,\u001b[0m \u001b[0;34m\"w\"\u001b[0m\u001b[0;34m)\u001b[0m\u001b[0;34m\u001b[0m\u001b[0;34m\u001b[0m\u001b[0m\n\u001b[0;32m---> 48\u001b[0;31m     \u001b[0mjson\u001b[0m\u001b[0;34m.\u001b[0m\u001b[0mdump\u001b[0m\u001b[0;34m(\u001b[0m\u001b[0mfile\u001b[0m\u001b[0;34m,\u001b[0m \u001b[0ma_file\u001b[0m\u001b[0;34m)\u001b[0m\u001b[0;34m\u001b[0m\u001b[0;34m\u001b[0m\u001b[0m\n\u001b[0m\u001b[1;32m     49\u001b[0m     \u001b[0ma_file\u001b[0m\u001b[0;34m.\u001b[0m\u001b[0mclose\u001b[0m\u001b[0;34m(\u001b[0m\u001b[0;34m)\u001b[0m\u001b[0;34m\u001b[0m\u001b[0;34m\u001b[0m\u001b[0m\n\u001b[1;32m     50\u001b[0m \u001b[0;34m\u001b[0m\u001b[0m\n",
      "\u001b[0;31mNameError\u001b[0m: name 'json' is not defined"
     ]
    }
   ],
   "source": [
    "from sklearn.metrics.pairwise import cosine_similarity\n",
    "from sklearn.metrics.pairwise import euclidean_distances\n",
    "from sklearn import metrics\n",
    "from sklearn.metrics import jaccard_score\n",
    "import numpy\n",
    "import sys\n",
    "\n",
    "\n",
    "\n",
    "def similarity(document,tfidf,metric):\n",
    "    testvector = tf.transform(document)#create vector for each document that needs to be classified\n",
    "    if metric=='cosine':\n",
    "        score = cosine_similarity(testvector, tfidf)\n",
    "    elif metric=='euclidean':\n",
    "        score = euclidean_distances(testvector, tfidf)\n",
    "    else:\n",
    "        sys.exit()\n",
    "    prediction = np.argmax(score, 1)#returns the index of the biggest value\n",
    "    predicted = df_news_train['tag'].iloc[prediction]#locating the tag of the article that had the biggest score\n",
    "    return predicted\n",
    "\n",
    "#df=df_news_test\n",
    "def classify(df,metric):\n",
    "    classified = pd.DataFrame()#this is were the classified docs will be stored\n",
    "    doc_count = len(df.index)\n",
    "    correct = 0\n",
    "    for row in df.itertuples():\n",
    "        predicted = similarity(row[1],tfidf,metric)#returns the predicted class\n",
    "        temp = pd.DataFrame( #creating a temporary dataframe to store the current classified doc\n",
    "        {\n",
    "            'document':row[1],\n",
    "            'class':predicted\n",
    "        },index=[0])\n",
    "        classified = pd.concat([classified, temp])#merge temp dataframe with the final one\n",
    "        actual = row[2]\n",
    "        if actual == predicted[0]:#actual is the correct class from the df_news_test\n",
    "            correct=correct + 1\n",
    "    accuracy = correct/doc_count \n",
    "    print(correct)\n",
    "    percentage = \"{:.0%}\".format(accuracy)\n",
    "    print(percentage)\n",
    "    return classified\n",
    "\n",
    "classified = classify(df_news_test,'cosine')\n",
    "\n"
   ]
  },
  {
   "cell_type": "code",
   "execution_count": 13,
   "id": "062e546a",
   "metadata": {},
   "outputs": [],
   "source": [
    "\n",
    "classified.to_csv('classified')"
   ]
  },
  {
   "cell_type": "code",
   "execution_count": null,
   "id": "7050f8c0",
   "metadata": {},
   "outputs": [],
   "source": []
  },
  {
   "cell_type": "code",
   "execution_count": 9,
   "id": "21092b6c",
   "metadata": {},
   "outputs": [
    {
     "name": "stdout",
     "output_type": "stream",
     "text": [
      "(11314, 8000)\n"
     ]
    }
   ],
   "source": []
  },
  {
   "cell_type": "code",
   "execution_count": 6,
   "id": "c30dc7cf",
   "metadata": {},
   "outputs": [
    {
     "name": "stdout",
     "output_type": "stream",
     "text": [
      "(1, 8000)\n"
     ]
    }
   ],
   "source": [
    "\n",
    "\n"
   ]
  },
  {
   "cell_type": "code",
   "execution_count": null,
   "id": "3cd59761",
   "metadata": {},
   "outputs": [],
   "source": []
  }
 ],
 "metadata": {
  "kernelspec": {
   "display_name": "Python 3 (ipykernel)",
   "language": "python",
   "name": "python3"
  },
  "language_info": {
   "codemirror_mode": {
    "name": "ipython",
    "version": 3
   },
   "file_extension": ".py",
   "mimetype": "text/x-python",
   "name": "python",
   "nbconvert_exporter": "python",
   "pygments_lexer": "ipython3",
   "version": "3.9.7"
  }
 },
 "nbformat": 4,
 "nbformat_minor": 5
}
